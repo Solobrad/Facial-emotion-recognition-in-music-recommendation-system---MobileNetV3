{
 "cells": [
  {
   "cell_type": "code",
   "execution_count": null,
   "metadata": {
    "vscode": {
     "languageId": "plaintext"
    }
   },
   "outputs": [],
   "source": [
    "from tensorflow.keras.applications import MobileNetV3Small\n",
    "from tensorflow.keras.models import Model\n",
    "import tensorflow as tf\n",
    "\n",
    "# Load the MobileNetV3 model\n",
    "base_model = MobileNetV3Small(weights='imagenet', include_top=False, input_shape=(224, 224, 3))\n",
    "\n",
    "# Get the output of the last convolutional block or the layers you want to modify\n",
    "x = base_model.get_layer('last_conv_layer_name').output  # Replace 'last_conv_layer_name' with the actual name\n",
    "\n",
    "# Apply the pre-defined CBAM\n",
    "x = CBAM()(x)  # Using the imported CBAM directly\n",
    "\n",
    "# Add other layers as needed\n",
    "x = tf.keras.layers.GlobalAveragePooling2D()(x)\n",
    "x = tf.keras.layers.Dense(1024, activation='relu')(x)\n",
    "outputs = tf.keras.layers.Dense(num_classes, activation='softmax')(x)  # Change num_classes as per your task\n",
    "\n",
    "# Create the new model\n",
    "model = Model(inputs=base_model.input, outputs=outputs)\n"
   ]
  }
 ],
 "metadata": {
  "language_info": {
   "name": "python"
  }
 },
 "nbformat": 4,
 "nbformat_minor": 2
}
