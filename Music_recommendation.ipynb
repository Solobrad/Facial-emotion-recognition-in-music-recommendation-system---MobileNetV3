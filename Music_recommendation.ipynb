{
 "cells": [
  {
   "cell_type": "code",
   "execution_count": 1,
   "metadata": {},
   "outputs": [
    {
     "ename": "ModuleNotFoundError",
     "evalue": "No module named 'skimage'",
     "output_type": "error",
     "traceback": [
      "\u001b[1;31m---------------------------------------------------------------------------\u001b[0m",
      "\u001b[1;31mModuleNotFoundError\u001b[0m                       Traceback (most recent call last)",
      "Cell \u001b[1;32mIn[1], line 13\u001b[0m\n\u001b[0;32m     11\u001b[0m \u001b[38;5;28;01mfrom\u001b[39;00m \u001b[38;5;21;01msklearn\u001b[39;00m\u001b[38;5;21;01m.\u001b[39;00m\u001b[38;5;21;01mmetrics\u001b[39;00m\u001b[38;5;21;01m.\u001b[39;00m\u001b[38;5;21;01mpairwise\u001b[39;00m \u001b[38;5;28;01mimport\u001b[39;00m cosine_similarity\n\u001b[0;32m     12\u001b[0m \u001b[38;5;28;01mfrom\u001b[39;00m \u001b[38;5;21;01msklearn\u001b[39;00m\u001b[38;5;21;01m.\u001b[39;00m\u001b[38;5;21;01mpreprocessing\u001b[39;00m \u001b[38;5;28;01mimport\u001b[39;00m MinMaxScaler\n\u001b[1;32m---> 13\u001b[0m \u001b[38;5;28;01mfrom\u001b[39;00m \u001b[38;5;21;01mskimage\u001b[39;00m \u001b[38;5;28;01mimport\u001b[39;00m io\n\u001b[0;32m     14\u001b[0m \u001b[38;5;28;01mimport\u001b[39;00m \u001b[38;5;21;01mmatplotlib\u001b[39;00m\u001b[38;5;21;01m.\u001b[39;00m\u001b[38;5;21;01mpyplot\u001b[39;00m \u001b[38;5;28;01mas\u001b[39;00m \u001b[38;5;21;01mplt\u001b[39;00m\n\u001b[0;32m     17\u001b[0m \u001b[38;5;28;01mimport\u001b[39;00m \u001b[38;5;21;01mspotipy\u001b[39;00m\n",
      "\u001b[1;31mModuleNotFoundError\u001b[0m: No module named 'skimage'"
     ]
    }
   ],
   "source": [
    "import pandas as pd\n",
    "import numpy as np\n",
    "import json\n",
    "import re \n",
    "import sys\n",
    "import itertools\n",
    "import cv2\n",
    "from PIL import Image\n",
    "\n",
    "from sklearn.feature_extraction.text import TfidfVectorizer\n",
    "from sklearn.metrics.pairwise import cosine_similarity\n",
    "from sklearn.preprocessing import MinMaxScaler\n",
    "from skimage import io\n",
    "import matplotlib.pyplot as plt\n",
    "\n",
    "\n",
    "import spotipy\n",
    "from spotipy.oauth2 import SpotifyClientCredentials\n",
    "from spotipy.oauth2 import SpotifyOAuth\n",
    "import spotipy.util as util\n",
    "\n",
    "import warnings\n",
    "warnings.filterwarnings(\"ignore\")"
   ]
  },
  {
   "cell_type": "code",
   "execution_count": null,
   "metadata": {},
   "outputs": [],
   "source": [
    "%matplotlib inline"
   ]
  },
  {
   "cell_type": "code",
   "execution_count": null,
   "metadata": {},
   "outputs": [],
   "source": [
    "#another useful command to make data exploration easier\n",
    "# NOTE: if you are using a massive dataset, this could slow down your code. \n",
    "pd.set_option('display.max_columns', None)\n",
    "pd.set_option(\"max_rows\", None)"
   ]
  },
  {
   "cell_type": "code",
   "execution_count": null,
   "metadata": {},
   "outputs": [],
   "source": [
    "df = pd.read_csv('kaggleMusicMoodFinal.csv')"
   ]
  },
  {
   "cell_type": "code",
   "execution_count": null,
   "metadata": {},
   "outputs": [],
   "source": [
    "spotify_df = df.copy()"
   ]
  },
  {
   "cell_type": "code",
   "execution_count": null,
   "metadata": {},
   "outputs": [],
   "source": [
    "spotify_df.shape"
   ]
  },
  {
   "cell_type": "code",
   "execution_count": null,
   "metadata": {},
   "outputs": [],
   "source": [
    "float_cols = spotify_df.dtypes[spotify_df.dtypes == 'float64'].index.values"
   ]
  },
  {
   "cell_type": "code",
   "execution_count": null,
   "metadata": {},
   "outputs": [],
   "source": [
    "ohe_cols = 'popularity'"
   ]
  },
  {
   "cell_type": "code",
   "execution_count": 3,
   "metadata": {},
   "outputs": [
    {
     "ename": "NameError",
     "evalue": "name 'spotify_df' is not defined",
     "output_type": "error",
     "traceback": [
      "\u001b[1;31m---------------------------------------------------------------------------\u001b[0m",
      "\u001b[1;31mNameError\u001b[0m                                 Traceback (most recent call last)",
      "Cell \u001b[1;32mIn[3], line 2\u001b[0m\n\u001b[0;32m      1\u001b[0m \u001b[38;5;66;03m# create 5 point buckets for popularity \u001b[39;00m\n\u001b[1;32m----> 2\u001b[0m spotify_df[\u001b[38;5;124m'\u001b[39m\u001b[38;5;124mbucket_popularity\u001b[39m\u001b[38;5;124m'\u001b[39m] \u001b[38;5;241m=\u001b[39m \u001b[43mspotify_df\u001b[49m[\u001b[38;5;124m'\u001b[39m\u001b[38;5;124mpopularity\u001b[39m\u001b[38;5;124m'\u001b[39m]\u001b[38;5;241m.\u001b[39mapply(\u001b[38;5;28;01mlambda\u001b[39;00m x: \u001b[38;5;28mint\u001b[39m(x\u001b[38;5;241m/\u001b[39m\u001b[38;5;241m5\u001b[39m))\n",
      "\u001b[1;31mNameError\u001b[0m: name 'spotify_df' is not defined"
     ]
    }
   ],
   "source": [
    "# create 5 point buckets for popularity \n",
    "spotify_df['bucket_popularity'] = spotify_df['popularity'].apply(lambda x: int(x/5))"
   ]
  },
  {
   "cell_type": "code",
   "execution_count": null,
   "metadata": {},
   "outputs": [],
   "source": [
    "spotify_df['consolidates_genre_lists_upd'] = spotify_df['consolidates_genre_lists'].apply(lambda x: [re.sub(' ','_',i) for i in re.findall(r\"'([^']*)'\", x)])\n"
   ]
  },
  {
   "cell_type": "code",
   "execution_count": 4,
   "metadata": {},
   "outputs": [
    {
     "ename": "NameError",
     "evalue": "name 'spotify_df' is not defined",
     "output_type": "error",
     "traceback": [
      "\u001b[1;31m---------------------------------------------------------------------------\u001b[0m",
      "\u001b[1;31mNameError\u001b[0m                                 Traceback (most recent call last)",
      "Cell \u001b[1;32mIn[4], line 1\u001b[0m\n\u001b[1;32m----> 1\u001b[0m \u001b[43mspotify_df\u001b[49m\u001b[38;5;241m.\u001b[39mhead()\n",
      "\u001b[1;31mNameError\u001b[0m: name 'spotify_df' is not defined"
     ]
    }
   ],
   "source": [
    "spotify_df.head()\n"
   ]
  },
  {
   "cell_type": "code",
   "execution_count": null,
   "metadata": {},
   "outputs": [],
   "source": [
    "#simple function to create OHE features\n",
    "#this gets passed later on\n",
    "def One_Hot_Encode_Prep(df, column, new_name): \n",
    "    \"\"\" \n",
    "    Create One Hot Encoded features of a specific column\n",
    "\n",
    "    Parameters: \n",
    "        df (pandas dataframe): Spotify Dataframe\n",
    "        column (str): Column to be processed\n",
    "        new_name (str): new column name to be used\n",
    "        \n",
    "    Returns: \n",
    "        tf_df: One hot encoded features \n",
    "    \"\"\"\n",
    "    \n",
    "    tf_df = pd.get_dummies(df[column])\n",
    "    feature_names = tf_df.columns\n",
    "    tf_df.columns = [new_name + \"|\" + str(i) for i in feature_names]\n",
    "    tf_df.reset_index(drop = True, inplace = True)    \n",
    "    return tf_df\n",
    "\n",
    "\n",
    "\n",
    "#function to build entire feature set\n",
    "def Feature_Set_Using_TDiDF(df, float_cols):\n",
    "    \"\"\" \n",
    "    Process spotify df to create a final set of features that will be used to generate recommendations\n",
    "\n",
    "    Parameters: \n",
    "        df (pandas dataframe): Spotify Dataframe\n",
    "        float_cols (list(str)): List of float columns that will be scaled \n",
    "        \n",
    "    Returns: \n",
    "        final: final set of features \n",
    "    \"\"\"\n",
    "    \n",
    "    #tfidf genre lists\n",
    "    tfidf = TfidfVectorizer()\n",
    "    tfidf_matrix =  tfidf.fit_transform(df['consolidates_genre_lists_upd'].apply(lambda x: \" \".join(x)))\n",
    "    genre_df = pd.DataFrame(tfidf_matrix.toarray())\n",
    "    genre_df.columns = ['genre' + \"|\" + i for i in tfidf.get_feature_names()]\n",
    "    genre_df.reset_index(drop = True, inplace=True)\n",
    "\n",
    "    #explicity_ohe = One_Hot_Encode_Prep(df, 'explicit','exp')    \n",
    "    year_ohe = One_Hot_Encode_Prep(df, 'year','year') * 0.5\n",
    "    popularity_ohe = One_Hot_Encode_Prep(df, 'bucket_popularity','pop') * 0.15\n",
    "\n",
    "    #scale float columns\n",
    "    floats = df[float_cols].reset_index(drop = True)\n",
    "    scaler = MinMaxScaler()\n",
    "    floats_scaled = pd.DataFrame(scaler.fit_transform(floats), columns = floats.columns) * 0.2\n",
    "\n",
    "    #concanenate all features\n",
    "    final = pd.concat([genre_df, floats_scaled, popularity_ohe, year_ohe], axis = 1)\n",
    "     \n",
    "    #add song id\n",
    "    final['id']=df['id'].values\n",
    "    \n",
    "    return final\n",
    "\n",
    "\n",
    "def Get_Spotify_Playlist_DataFrame(playlist_name,id_dic, df):\n",
    "    \"\"\" \n",
    "    Pull songs from a specific playlist.\n",
    "\n",
    "    Parameters: \n",
    "        playlist_name (str): name of the playlist you'd like to pull from the spotify API\n",
    "        id_dic (dic): dictionary that maps playlist_name to playlist_id\n",
    "        df (pandas dataframe): spotify datafram\n",
    "        \n",
    "    Returns: \n",
    "        playlist: all songs in the playlist THAT ARE AVAILABLE IN THE KAGGLE DATASET\n",
    "    \"\"\"\n",
    "    \n",
    "    #generate playlist dataframe\n",
    "    playlist = pd.DataFrame()\n",
    "    playlist_name = playlist_name\n",
    "    \n",
    "    #print(len(sp.playlist(id_dic[playlist_name])['tracks']['items']))\n",
    "\n",
    "    for ix, i in enumerate(sp.playlist(id_dic[playlist_name])['tracks']['items']):\n",
    "        #print(i['track']['artists'][0]['name'])\n",
    "        playlist.loc[ix, 'artist'] = i['track']['artists'][0]['name']\n",
    "        playlist.loc[ix, 'name'] = i['track']['name']\n",
    "        playlist.loc[ix, 'id'] = i['track']['id'] # ['uri'].split(':')[2]\n",
    "        playlist.loc[ix, 'url'] = i['track']['album']['images'][1]['url']\n",
    "        playlist.loc[ix, 'date_added'] = i['added_at']\n",
    "\n",
    "    playlist['date_added'] = pd.to_datetime(playlist['date_added'])  \n",
    "    \n",
    "    #playlist = playlist[playlist['id'].isin(df['id'].values)].sort_values('date_added',ascending = False)\n",
    "    \n",
    "    return playlist\n",
    "\n",
    "\n",
    "\n",
    "\n",
    "def visualize_songs(df):\n",
    "    \"\"\" \n",
    "    Visualize cover art of the songs in the inputted dataframe\n",
    "\n",
    "    Parameters: \n",
    "        df (pandas dataframe): Playlist Dataframe\n",
    "    \"\"\"\n",
    "    \n",
    "    temp = df['url'].values\n",
    "    plt.figure(figsize=(15,int(0.625 * len(temp))))\n",
    "    columns = 5\n",
    "    \n",
    "    for i, url in enumerate(temp):\n",
    "        plt.subplot(len(temp) / columns + 1, columns, i + 1)\n",
    "\n",
    "        image = io.imread(url)\n",
    "        plt.imshow(image)\n",
    "        plt.xticks(color = 'w', fontsize = 0.1)\n",
    "        plt.yticks(color = 'w', fontsize = 0.1)\n",
    "        plt.xlabel(df['name'].values[i], fontsize = 12)\n",
    "        plt.tight_layout(h_pad=0.4, w_pad=0)\n",
    "        plt.subplots_adjust(wspace=None, hspace=None)\n",
    "\n",
    "    plt.show()\n",
    "    \n",
    "    \n",
    "    \n",
    "\n",
    "def generate_playlist_feature(complete_feature_set, playlist_df, weight_factor):\n",
    "    \"\"\" \n",
    "    Summarize a user's playlist into a single vector\n",
    "\n",
    "    Parameters: \n",
    "        complete_feature_set (pandas data00frame): Dataframe which includes all of the features for the spotify songs\n",
    "        playlist_df (pandas dataframe): playlist dataframe\n",
    "        weight_factor (float): float value that represents the recency bias. The larger the recency bias, the most priority recent songs get. Value should be close to 1. \n",
    "        \n",
    "    Returns: \n",
    "        playlist_feature_set_weighted_final (pandas series): single feature that summarizes the playlist\n",
    "        playlist_features_not_in_dataframe (pandas dataframe): \n",
    "    \"\"\"\n",
    "    \n",
    "    playlist_features_in_dataframe = complete_feature_set[complete_feature_set['id'].isin(playlist_df['id'].values)]#.drop('id', axis = 1).mean(axis =0)\n",
    "    playlist_features_in_dataframe = playlist_features_in_dataframe.merge(playlist_df[['id','date_added']], on = 'id', how = 'inner')\n",
    "    playlist_features_not_in_dataframe = complete_feature_set[~complete_feature_set['id'].isin(playlist_df['id'].values)]#.drop('id', axis = 1)\n",
    "    \n",
    "    playlist_feature_set = playlist_featu00000000000r100000000000000000000000000es_in_dataframe.sort_values('date_added',ascending=False)\n",
    "\n",
    "    most_recent_date = playlist_feature_set.iloc[0,-1]\n",
    "    \n",
    "    for ix, row in playlist_feature_set.iterrows():\n",
    "        playlist_feature_set.loc[ix,'months_from_recent'] = int((most_recent_date.to_pydatetime() - row.iloc[-1].to_pydatetime()).days / 30)\n",
    "        \n",
    "    playlist_feature_set['weight'] = playlist_feature_set['months_from_recent'].apply(lambda x: weight_factor ** (-x))\n",
    "    \n",
    "    playlist_feature_set_weighted = playlist_feature_set.copy()\n",
    "    #print(playlist_feature_set_weighted.iloc[:,:-4].columns)\n",
    "    playlist_feature_set_weighted.update(playlist_feature_set_weighted.iloc[:,:-4].mul(playlist_feature_set_weighted.weight,0))\n",
    "    playlist_feature_set_weighted_final = playlist_feature_set_weighted.iloc[:, :-4]\n",
    "    #playlist_feature_set_weighted_final['id'] = playlist_feature_set['id']\n",
    "    \n",
    "    return playlist_feature_set_weighted_final.sum(axis = 0), playlist_features_not_in_dataframe\n",
    "\n",
    "\n",
    "\n",
    "\n",
    "\n",
    "def Recommend_Playlist(df, features, nonplaylist_features):\n",
    "    \"\"\" \n",
    "    Pull songs from a specific playlist.\n",
    "\n",
    "    Parameters: \n",
    "        df (pandas dataframe): spotify dataframe\n",
    "        features (pandas series): summarized playlist feature\n",
    "        nonplaylist_features (pandas dataframe): feature set of songs that are not in the selected playlist\n",
    "        \n",
    "    Returns: \n",
    "        non_playlist_df_top_40: Top 40 recommendations for that playlist\n",
    "    \"\"\"\n",
    "    \n",
    "    non_playlist_df = df[df['id'].isin(nonplaylist_features['id'].values)]\n",
    "    non_playlist_df['sim'] = cosine_similarity(nonplaylist_features.drop('id', axis = 1).values, features.values.reshape(1, -1))[:,0]\n",
    "    non_playlist_df_top_40 = non_playlist_df.sort_values('sim',ascending = False).head(40)\n",
    "    non_playlist_df_top_40['url'] = non_playlist_df_top_40['id'].apply(lambda x: sp.track(x)['album']['images'][1]['url'])\n",
    "    \n",
    "    return non_playlist_df_top_40"
   ]
  },
  {
   "cell_type": "code",
   "execution_count": null,
   "metadata": {},
   "outputs": [],
   "source": [
    "scope = 'user-library-read'\n",
    "\n",
    "if len(sys.argv) > 1:\n",
    "    username = sys.argv[1]\n",
    "else:\n",
    "    print(\"Usage: %s username\" % (sys.argv[0],))\n",
    "    sys.exit()"
   ]
  },
  {
   "cell_type": "code",
   "execution_count": null,
   "metadata": {},
   "outputs": [],
   "source": [
    "auth_manager = SpotifyClientCredentials(client_id=client_id, client_secret=client_secret)\n",
    "sp = spotipy.Spotify(auth_manager=auth_manager)"
   ]
  },
  {
   "cell_type": "code",
   "execution_count": null,
   "metadata": {},
   "outputs": [],
   "source": [
    "token = util.prompt_for_user_token(scope, client_id=client_id, client_secret=client_secret, redirect_uri='http://localhost:8400/')\n"
   ]
  },
  {
   "cell_type": "code",
   "execution_count": null,
   "metadata": {},
   "outputs": [],
   "source": [
    "sp = spotipy.Spotify(auth=token)\n"
   ]
  },
  {
   "cell_type": "code",
   "execution_count": null,
   "metadata": {},
   "outputs": [],
   "source": [
    "#gather playlist names and images. \n",
    "#images aren't going to be used until I start building a UI\n",
    "id_name = {}\n",
    "list_photo = {}\n",
    "for i in sp.current_user_playlists()['items']:\n",
    "\n",
    "    id_name[i['name']] = i['uri'].split(':')[2]\n",
    "    list_photo[i['uri'].split(':')[2]] = i['images'][0]['url']"
   ]
  },
  {
   "cell_type": "code",
   "execution_count": 5,
   "metadata": {},
   "outputs": [
    {
     "ename": "NameError",
     "evalue": "name 'id_name' is not defined",
     "output_type": "error",
     "traceback": [
      "\u001b[1;31m---------------------------------------------------------------------------\u001b[0m",
      "\u001b[1;31mNameError\u001b[0m                                 Traceback (most recent call last)",
      "Cell \u001b[1;32mIn[5], line 1\u001b[0m\n\u001b[1;32m----> 1\u001b[0m \u001b[43mid_name\u001b[49m\n",
      "\u001b[1;31mNameError\u001b[0m: name 'id_name' is not defined"
     ]
    }
   ],
   "source": [
    "id_name\n"
   ]
  },
  {
   "cell_type": "code",
   "execution_count": null,
   "metadata": {},
   "outputs": [],
   "source": [
    "def ChooseDataset(x):\n",
    "    if x == \"Disgust\":\n",
    "        return spotify_df[spotify_df['Mood'].isin(['Energetic', 'Happy', 'Calm'])]\n",
    "    if x == \"Angry\":\n",
    "        return spotify_df[spotify_df['Mood'].isin(['Energetic', 'Calm'])]\n",
    "    if x == \"Fear\":\n",
    "        return spotify_df[spotify_df['Mood'].isin(['Happy', 'Calm'])]\n",
    "    if x == \"Happy\":\n",
    "        return spotify_df[spotify_df['Mood'].isin(['Sad', 'Happy', 'Calm'])]\n",
    "    if x == \"Sad\":\n",
    "        return spotify_df[spotify_df['Mood'].isin(['Sad', 'Happy', 'Calm'])]\n",
    "    if x == \"Surprise\":\n",
    "        return spotify_df[spotify_df['Mood'].isin(['Energetic', 'Happy', 'Sad'])]\n",
    "    return spotify_df"
   ]
  },
  {
   "cell_type": "code",
   "execution_count": null,
   "metadata": {},
   "outputs": [],
   "source": [
    "def Recommend_Top40(x):\n",
    "    #..............................\n",
    "    #.............................\n",
    "    #............................\n",
    "    \n",
    "    O_df = ChooseDataset(x)\n",
    "    \n",
    "    # Feature Engineering from main dataframe\n",
    "    complete_feature_set = Feature_Set_Using_TDiDF(O_df, float_cols=float_cols)#.mean(axis = 0)\n",
    "    \n",
    "    # collecting spotify user playlist dataframe\n",
    "    one_playlist_from_spotify = Get_Spotify_Playlist_DataFrame('EDM', id_name, O_df)\n",
    "    \n",
    "    # linear vector for recommendation\n",
    "    features_in_the_playlist, features_not_in_the_playlist = generate_playlist_feature(complete_feature_set, one_playlist_from_spotify, 1.09)\n",
    "    \n",
    "    \n",
    "    # Recommended Songs store here\n",
    "    top40_recommendation = Recommend_Playlist(spotify_df, features_in_the_playlist, features_not_in_the_playlist)\n",
    "    \n",
    "    \n",
    "    visualize_songs(top40_recommendation)\n",
    "    "
   ]
  },
  {
   "cell_type": "code",
   "execution_count": null,
   "metadata": {},
   "outputs": [],
   "source": [
    "from tensorflow.keras.models import load_model\n",
    "\n",
    "model = load_model('MoodDetector.h5', compile = True)"
   ]
  },
  {
   "cell_type": "code",
   "execution_count": null,
   "metadata": {},
   "outputs": [],
   "source": [
    "def moodNamePrintFromLabel(n):\n",
    "    if n == 0: result = \"Angry\"\n",
    "    elif n == 1: result = \"Disgust\"\n",
    "    elif n == 2: result = \"Fear\"\n",
    "    elif n == 3: result = \"Happy\"\n",
    "    elif n == 4: result = \"Sad\"\n",
    "    elif n == 5: result = \"Surprise\"\n",
    "    elif n == 6: result = \"Neutral\"\n",
    "        \n",
    "    return result\n",
    "\n",
    "def imageToMoodDetection(img_path):\n",
    "\n",
    "    img = cv2.imread(img_path)\n",
    "\n",
    "    Gray_img = cv2.cvtColor(img, cv2.COLOR_BGR2GRAY)\n",
    "\n",
    "    faces = face_casecade.detectMultiScale(Gray_img, 1.3, 3)\n",
    "\n",
    "    for (x,y,w,h) in faces:\n",
    "      pxl_lst = []\n",
    "      for i in range(y, y+h):\n",
    "        lst = []\n",
    "        for j in range(x, x+w):\n",
    "          lst.append(Gray_img[i][j])\n",
    "        pxl_lst.append(lst)\n",
    "      single_face = np.array(pxl_lst)\n",
    "      single_face = np.reshape(single_face,(h,w,))\n",
    "\n",
    "      resized_img = cv2.resize(single_face, (48,48), interpolation = cv2.INTER_AREA)\n",
    "      \n",
    "      resized_img = np.reshape(resized_img,(1,48,48,1))/255.0\n",
    "\n",
    "      #passing to model\n",
    "      result = np.argmax(loaded_model.predict(resized_img), axis=-1)\n",
    "      if result is not None:\n",
    "        print(moodNamePrintFromLabel(result))"
   ]
  },
  {
   "cell_type": "code",
   "execution_count": null,
   "metadata": {},
   "outputs": [],
   "source": [
    "Image_path = ''"
   ]
  },
  {
   "cell_type": "code",
   "execution_count": null,
   "metadata": {},
   "outputs": [],
   "source": [
    "Recommend_Top40(imageToMoodDetection(Image_path))"
   ]
  },
  {
   "cell_type": "code",
   "execution_count": null,
   "metadata": {},
   "outputs": [],
   "source": []
  },
  {
   "cell_type": "code",
   "execution_count": null,
   "metadata": {},
   "outputs": [],
   "source": []
  },
  {
   "cell_type": "code",
   "execution_count": null,
   "metadata": {},
   "outputs": [],
   "source": []
  }
 ],
 "metadata": {
  "kernelspec": {
   "display_name": "Python 3",
   "language": "python",
   "name": "python3"
  },
  "language_info": {
   "codemirror_mode": {
    "name": "ipython",
    "version": 3
   },
   "file_extension": ".py",
   "mimetype": "text/x-python",
   "name": "python",
   "nbconvert_exporter": "python",
   "pygments_lexer": "ipython3",
   "version": "3.10.4"
  }
 },
 "nbformat": 4,
 "nbformat_minor": 2
}
