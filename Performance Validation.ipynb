{
 "cells": [
  {
   "cell_type": "code",
   "execution_count": 1,
   "metadata": {},
   "outputs": [],
   "source": [
    "import h5py\n",
    "import numpy as np\n",
    "import tensorflow as tf\n",
    "from tensorflow.keras.optimizers import Adam"
   ]
  },
  {
   "cell_type": "code",
   "execution_count": 2,
   "metadata": {},
   "outputs": [],
   "source": [
    "def load_data(hdf5_file, dataset_name_images, dataset_name_labels):\n",
    "    with h5py.File(hdf5_file, 'r') as hf:\n",
    "        data = np.array(hf[dataset_name_images])\n",
    "        labels = np.array(hf[dataset_name_labels])\n",
    "    return data, labels"
   ]
  },
  {
   "cell_type": "markdown",
   "metadata": {},
   "source": [
    "# Loading model and Testing accuracy"
   ]
  },
  {
   "cell_type": "code",
   "execution_count": 3,
   "metadata": {},
   "outputs": [],
   "source": [
    "from tensorflow.keras.layers import Layer, GlobalAveragePooling2D, Reshape, Dense, Multiply, Conv2D, Add, Activation, BatchNormalization\n",
    "from tensorflow.keras.applications import MobileNetV3Small"
   ]
  },
  {
   "cell_type": "code",
   "execution_count": 4,
   "metadata": {},
   "outputs": [],
   "source": [
    "# Channel Attention Module\n",
    "class ChannelAttention(Layer):\n",
    "    def __init__(self, reduction_ratio=16, **kwargs):\n",
    "        super(ChannelAttention, self).__init__(**kwargs)\n",
    "        self.reduction_ratio = reduction_ratio\n",
    "\n",
    "    def build(self, input_shape):\n",
    "        self.global_avg_pool = GlobalAveragePooling2D()\n",
    "        self.reshape = Reshape((1, 1, input_shape[-1]))\n",
    "        self.dense1 = Dense(input_shape[-1] // self.reduction_ratio, activation='relu', use_bias=False)\n",
    "        self.dense2 = Dense(input_shape[-1], activation='sigmoid', use_bias=False)\n",
    "\n",
    "    def call(self, inputs):\n",
    "        x = self.global_avg_pool(inputs)\n",
    "        x = self.reshape(x)\n",
    "        x = self.dense1(x)\n",
    "        x = self.dense2(x)\n",
    "        return Multiply()([inputs, x])\n",
    "\n",
    "\n",
    "# Spatial Attention Module\n",
    "class SpatialAttention(Layer):\n",
    "    def __init__(self, kernel_size=7, **kwargs):\n",
    "        super(SpatialAttention, self).__init__(**kwargs)\n",
    "        self.conv = Conv2D(1, kernel_size, padding='same', activation='sigmoid')\n",
    "\n",
    "    def call(self, inputs):\n",
    "        avg_pool = tf.reduce_mean(inputs, axis=-1, keepdims=True)\n",
    "        max_pool = tf.reduce_max(inputs, axis=-1, keepdims=True)\n",
    "        concat = tf.concat([avg_pool, max_pool], axis=-1)\n",
    "        return Multiply()([inputs, self.conv(concat)])\n",
    "\n",
    "# CBAM Module\n",
    "class CBAM(Layer):\n",
    "    def __init__(self, reduction_ratio=16, kernel_size=7, **kwargs):\n",
    "        super(CBAM, self).__init__(**kwargs)\n",
    "        self.channel_attention = ChannelAttention(reduction_ratio=reduction_ratio)\n",
    "        self.spatial_attention = SpatialAttention(kernel_size=kernel_size)\n",
    "\n",
    "    def call(self, inputs):\n",
    "        x = self.channel_attention(inputs)\n",
    "        x = self.spatial_attention(x)\n",
    "        return x"
   ]
  },
  {
   "cell_type": "code",
   "execution_count": 6,
   "metadata": {},
   "outputs": [],
   "source": [
    "LEC_loaded_model = tf.keras.models.load_model('Trained Model/LEC_model.keras', custom_objects={\"ChannelAttention\": ChannelAttention})\n",
    "LEC_loaded_model2 = tf.keras.models.load_model('Trained Model/LEC_model_no_CBAM.keras')\n",
    "LEC_loaded_model3 = tf.keras.models.load_model('Trained Model/LEC_model_with_layers.keras')\n",
    "LEC_loaded_model4 = tf.keras.models.load_model('Trained Model/LEC_model_general.keras')\n",
    "LEC_loaded_model5 = tf.keras.models.load_model('Trained Model/LEC_model_no_TL.keras')\n",
    "MobileNetV3_S = tf.keras.models.load_model('Trained Model/MobileNetV3Small_with_TL.keras')\n",
    "MobileNetV3_S2 = tf.keras.models.load_model('Trained Model/MobileNetV3Small_no_TL.keras')\n",
    "MobileNetV3_L = tf.keras.models.load_model('Trained Model/Teacher_MobileNetV3Large_model.keras')\n",
    "\n",
    "\n"
   ]
  },
  {
   "cell_type": "code",
   "execution_count": 7,
   "metadata": {},
   "outputs": [],
   "source": [
    "LEC_loaded_model.compile(\n",
    "    optimizer=Adam(learning_rate=1e-4),\n",
    "    loss='sparse_categorical_crossentropy',\n",
    "    metrics=['accuracy']\n",
    ")\n",
    "LEC_loaded_model2.compile(\n",
    "    optimizer=Adam(learning_rate=1e-4),\n",
    "    loss='sparse_categorical_crossentropy',\n",
    "    metrics=['accuracy']\n",
    ")\n",
    "LEC_loaded_model3.compile(\n",
    "    optimizer=Adam(learning_rate=1e-4),\n",
    "    loss='sparse_categorical_crossentropy',\n",
    "    metrics=['accuracy']\n",
    ")\n",
    "LEC_loaded_model4.compile(\n",
    "    optimizer=Adam(learning_rate=1e-4),\n",
    "    loss='sparse_categorical_crossentropy',\n",
    "    metrics=['accuracy']\n",
    ")\n",
    "LEC_loaded_model5.compile(\n",
    "    optimizer=Adam(learning_rate=1e-4),\n",
    "    loss='sparse_categorical_crossentropy',\n",
    "    metrics=['accuracy']\n",
    ")"
   ]
  },
  {
   "cell_type": "code",
   "execution_count": 8,
   "metadata": {},
   "outputs": [],
   "source": [
    "X_fer_test, y_fer_test = load_data('output files/fer2013_testing.h5', 'images', 'labels')\n",
    "X_rafdb_test, y_rafdb_test = load_data('output files/rafdb_testing.h5', 'images', 'labels')\n",
    "X_ck_test, y_ck_test = load_data('output files/rafdb_testing.h5', 'images', 'labels')"
   ]
  },
  {
   "cell_type": "markdown",
   "metadata": {},
   "source": [
    "## Assessing Accuracy on FER-2013"
   ]
  },
  {
   "cell_type": "code",
   "execution_count": 9,
   "metadata": {},
   "outputs": [
    {
     "name": "stdout",
     "output_type": "stream",
     "text": [
      "\u001b[1m225/225\u001b[0m \u001b[32m━━━━━━━━━━━━━━━━━━━━\u001b[0m\u001b[37m\u001b[0m \u001b[1m22s\u001b[0m 87ms/step - accuracy: 0.6011 - loss: 1.2066\n",
      "\u001b[1m225/225\u001b[0m \u001b[32m━━━━━━━━━━━━━━━━━━━━\u001b[0m\u001b[37m\u001b[0m \u001b[1m20s\u001b[0m 84ms/step - accuracy: 0.6218 - loss: 1.1418\n",
      "\u001b[1m225/225\u001b[0m \u001b[32m━━━━━━━━━━━━━━━━━━━━\u001b[0m\u001b[37m\u001b[0m \u001b[1m21s\u001b[0m 85ms/step - accuracy: 0.6062 - loss: 1.1849\n",
      "\u001b[1m225/225\u001b[0m \u001b[32m━━━━━━━━━━━━━━━━━━━━\u001b[0m\u001b[37m\u001b[0m \u001b[1m20s\u001b[0m 85ms/step - accuracy: 0.5845 - loss: 1.1464\n",
      "\u001b[1m225/225\u001b[0m \u001b[32m━━━━━━━━━━━━━━━━━━━━\u001b[0m\u001b[37m\u001b[0m \u001b[1m22s\u001b[0m 90ms/step - accuracy: 0.5774 - loss: 1.1304\n",
      "\u001b[1m225/225\u001b[0m \u001b[32m━━━━━━━━━━━━━━━━━━━━\u001b[0m\u001b[37m\u001b[0m \u001b[1m22s\u001b[0m 91ms/step - accuracy: 0.4687 - loss: 1.3298\n",
      "\u001b[1m225/225\u001b[0m \u001b[32m━━━━━━━━━━━━━━━━━━━━\u001b[0m\u001b[37m\u001b[0m \u001b[1m59s\u001b[0m 255ms/step - accuracy: 0.6291 - loss: 1.1810\n"
     ]
    }
   ],
   "source": [
    "score = LEC_loaded_model.evaluate(X_fer_test, y_fer_test, verbose=1)\n",
    "score = LEC_loaded_model2.evaluate(X_fer_test, y_fer_test, verbose=1)\n",
    "score = LEC_loaded_model3.evaluate(X_fer_test, y_fer_test, verbose=1)\n",
    "score = LEC_loaded_model4.evaluate(X_fer_test, y_fer_test, verbose=1)\n",
    "score = MobileNetV3_S.evaluate(X_fer_test, y_fer_test, verbose=1)\n",
    "score = MobileNetV3_S2.evaluate(X_fer_test, y_fer_test, verbose=1)\n",
    "score = MobileNetV3_L.evaluate(X_fer_test, y_fer_test, verbose=1)\n",
    "\n"
   ]
  },
  {
   "cell_type": "code",
   "execution_count": null,
   "metadata": {},
   "outputs": [],
   "source": []
  },
  {
   "cell_type": "code",
   "execution_count": null,
   "metadata": {},
   "outputs": [],
   "source": []
  },
  {
   "cell_type": "code",
   "execution_count": null,
   "metadata": {},
   "outputs": [],
   "source": []
  },
  {
   "cell_type": "markdown",
   "metadata": {},
   "source": []
  },
  {
   "cell_type": "markdown",
   "metadata": {},
   "source": [
    "## Assessing Accuracy on RAF-DB"
   ]
  },
  {
   "cell_type": "code",
   "execution_count": 40,
   "metadata": {},
   "outputs": [
    {
     "name": "stdout",
     "output_type": "stream",
     "text": [
      "\u001b[1m96/96\u001b[0m \u001b[32m━━━━━━━━━━━━━━━━━━━━\u001b[0m\u001b[37m\u001b[0m \u001b[1m10s\u001b[0m 103ms/step - accuracy: 0.6048 - loss: 1.5531\n",
      "\u001b[1m96/96\u001b[0m \u001b[32m━━━━━━━━━━━━━━━━━━━━\u001b[0m\u001b[37m\u001b[0m \u001b[1m10s\u001b[0m 100ms/step - accuracy: 0.6002 - loss: 1.6249\n",
      "\u001b[1m96/96\u001b[0m \u001b[32m━━━━━━━━━━━━━━━━━━━━\u001b[0m\u001b[37m\u001b[0m \u001b[1m10s\u001b[0m 100ms/step - accuracy: 0.6252 - loss: 1.3993\n",
      "\u001b[1m96/96\u001b[0m \u001b[32m━━━━━━━━━━━━━━━━━━━━\u001b[0m\u001b[37m\u001b[0m \u001b[1m10s\u001b[0m 100ms/step - accuracy: 0.6289 - loss: 1.2672\n",
      "\u001b[1m96/96\u001b[0m \u001b[32m━━━━━━━━━━━━━━━━━━━━\u001b[0m\u001b[37m\u001b[0m \u001b[1m10s\u001b[0m 99ms/step - accuracy: 0.5620 - loss: 1.3620\n",
      "\u001b[1m96/96\u001b[0m \u001b[32m━━━━━━━━━━━━━━━━━━━━\u001b[0m\u001b[37m\u001b[0m \u001b[1m33s\u001b[0m 340ms/step - accuracy: 0.6203 - loss: 1.4946\n"
     ]
    }
   ],
   "source": [
    "score = LEC_loaded_model.evaluate(X_rafdb_test, y_rafdb_test, verbose=1)\n",
    "score = LEC_loaded_model2.evaluate(X_rafdb_test, y_rafdb_test, verbose=1)\n",
    "score = LEC_loaded_model3.evaluate(X_rafdb_test, y_rafdb_test, verbose=1)\n",
    "score = MobileNetV3_S.evaluate(X_rafdb_test, y_rafdb_test, verbose=1)\n",
    "score = MobileNetV3_S2.evaluate(X_rafdb_test, y_rafdb_test, verbose=1)\n",
    "score = MobileNetV3_L.evaluate(X_rafdb_test, y_rafdb_test, verbose=1)"
   ]
  },
  {
   "cell_type": "markdown",
   "metadata": {},
   "source": [
    "## Assessing Accuracy on CK+"
   ]
  },
  {
   "cell_type": "code",
   "execution_count": 41,
   "metadata": {},
   "outputs": [
    {
     "name": "stdout",
     "output_type": "stream",
     "text": [
      "\u001b[1m96/96\u001b[0m \u001b[32m━━━━━━━━━━━━━━━━━━━━\u001b[0m\u001b[37m\u001b[0m \u001b[1m10s\u001b[0m 104ms/step - accuracy: 0.6048 - loss: 1.5531\n",
      "\u001b[1m96/96\u001b[0m \u001b[32m━━━━━━━━━━━━━━━━━━━━\u001b[0m\u001b[37m\u001b[0m \u001b[1m10s\u001b[0m 102ms/step - accuracy: 0.6252 - loss: 1.3993\n",
      "\u001b[1m96/96\u001b[0m \u001b[32m━━━━━━━━━━━━━━━━━━━━\u001b[0m\u001b[37m\u001b[0m \u001b[1m9s\u001b[0m 97ms/step - accuracy: 0.6002 - loss: 1.6249\n",
      "\u001b[1m96/96\u001b[0m \u001b[32m━━━━━━━━━━━━━━━━━━━━\u001b[0m\u001b[37m\u001b[0m \u001b[1m9s\u001b[0m 97ms/step - accuracy: 0.6289 - loss: 1.2672\n",
      "\u001b[1m96/96\u001b[0m \u001b[32m━━━━━━━━━━━━━━━━━━━━\u001b[0m\u001b[37m\u001b[0m \u001b[1m9s\u001b[0m 97ms/step - accuracy: 0.5620 - loss: 1.3620\n",
      "\u001b[1m96/96\u001b[0m \u001b[32m━━━━━━━━━━━━━━━━━━━━\u001b[0m\u001b[37m\u001b[0m \u001b[1m32s\u001b[0m 333ms/step - accuracy: 0.6203 - loss: 1.4946\n"
     ]
    }
   ],
   "source": [
    "score = LEC_loaded_model.evaluate(X_ck_test, y_ck_test, verbose=1)\n",
    "score = LEC_loaded_model3.evaluate(X_ck_test, y_ck_test, verbose=1)\n",
    "score = LEC_loaded_model2.evaluate(X_ck_test, y_ck_test, verbose=1)\n",
    "score = MobileNetV3_S.evaluate(X_ck_test, y_ck_test, verbose=1)\n",
    "score = MobileNetV3_S2.evaluate(X_ck_test, y_ck_test, verbose=1)\n",
    "score = MobileNetV3_L.evaluate(X_ck_test, y_ck_test, verbose=1)"
   ]
  },
  {
   "cell_type": "code",
   "execution_count": null,
   "metadata": {},
   "outputs": [],
   "source": []
  },
  {
   "cell_type": "code",
   "execution_count": null,
   "metadata": {},
   "outputs": [],
   "source": []
  }
 ],
 "metadata": {
  "kernelspec": {
   "display_name": "myenv",
   "language": "python",
   "name": "python3"
  },
  "language_info": {
   "codemirror_mode": {
    "name": "ipython",
    "version": 3
   },
   "file_extension": ".py",
   "mimetype": "text/x-python",
   "name": "python",
   "nbconvert_exporter": "python",
   "pygments_lexer": "ipython3",
   "version": "3.10.4"
  }
 },
 "nbformat": 4,
 "nbformat_minor": 2
}
