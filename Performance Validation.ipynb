{
 "cells": [
  {
   "cell_type": "code",
   "execution_count": 1,
   "metadata": {},
   "outputs": [],
   "source": [
    "import h5py\n",
    "import numpy as np\n",
    "import tensorflow as tf\n",
    "from tensorflow.keras.optimizers import Adam"
   ]
  },
  {
   "cell_type": "code",
   "execution_count": 2,
   "metadata": {},
   "outputs": [],
   "source": [
    "def load_data(hdf5_file, dataset_name_images, dataset_name_labels):\n",
    "    with h5py.File(hdf5_file, 'r') as hf:\n",
    "        data = np.array(hf[dataset_name_images])\n",
    "        labels = np.array(hf[dataset_name_labels])\n",
    "    return data, labels"
   ]
  },
  {
   "cell_type": "markdown",
   "metadata": {},
   "source": [
    "# Loading model and Testing accuracy"
   ]
  },
  {
   "cell_type": "code",
   "execution_count": null,
   "metadata": {},
   "outputs": [],
   "source": []
  },
  {
   "cell_type": "code",
   "execution_count": 3,
   "metadata": {},
   "outputs": [],
   "source": [
    "# CLCM_loaded_model = tf.keras.models.load_model('Trained Model/CLCM_model.keras')\n",
    "LEC_loaded_model = tf.keras.models.load_model('Trained Model/MobileNetV3Small_no_TL.keras')\n",
    "\n",
    "LEC_loaded_model2 = tf.keras.models.load_model('Trained Model/MobileNetV3Small_with_TL.keras')\n",
    "# MobileNetV3_S_loaded_model = tf.keras.models.load_model('Trained Model/MobileNetV3_small_model.keras')"
   ]
  },
  {
   "cell_type": "code",
   "execution_count": 4,
   "metadata": {},
   "outputs": [],
   "source": [
    "LEC_loaded_model.compile(\n",
    "    optimizer=Adam(learning_rate=1e-4),\n",
    "    loss='sparse_categorical_crossentropy',\n",
    "    metrics=['accuracy']\n",
    ")\n",
    "LEC_loaded_model2.compile(\n",
    "    optimizer=Adam(learning_rate=1e-4),\n",
    "    loss='sparse_categorical_crossentropy',\n",
    "    metrics=['accuracy']\n",
    ")"
   ]
  },
  {
   "cell_type": "code",
   "execution_count": 4,
   "metadata": {},
   "outputs": [],
   "source": [
    "X_fer_test, y_fer_test = load_data('output files/fer2013_testing.h5', 'images', 'labels')\n",
    "X_rafdb_test, y_rafdb_test = load_data('output files/rafdb_testing.h5', 'images', 'labels')\n",
    "X_ck_test, y_ck_test = load_data('output files/rafdb_testing.h5', 'images', 'labels')"
   ]
  },
  {
   "cell_type": "markdown",
   "metadata": {},
   "source": [
    "## Assessing Accuracy on FER-2013"
   ]
  },
  {
   "cell_type": "code",
   "execution_count": 5,
   "metadata": {},
   "outputs": [
    {
     "name": "stdout",
     "output_type": "stream",
     "text": [
      "\u001b[1m225/225\u001b[0m \u001b[32m━━━━━━━━━━━━━━━━━━━━\u001b[0m\u001b[37m\u001b[0m \u001b[1m26s\u001b[0m 96ms/step - accuracy: 0.6080 - loss: 1.1370\n",
      "\u001b[1m225/225\u001b[0m \u001b[32m━━━━━━━━━━━━━━━━━━━━\u001b[0m\u001b[37m\u001b[0m \u001b[1m21s\u001b[0m 84ms/step - accuracy: 0.5774 - loss: 1.1304\n"
     ]
    }
   ],
   "source": [
    "# score = CLCM_loaded_model.evaluate(X_fer_test, y_fer_test, verbose=1)\n",
    "score = LEC_loaded_model.evaluate(X_fer_test, y_fer_test, verbose=1)\n",
    "score = LEC_loaded_model2.evaluate(X_fer_test, y_fer_test, verbose=1)\n",
    "\n",
    "# score = MobileNetV3_S_loaded_model.evaluate(X_fer_test, y_fer_test, verbose=1)"
   ]
  },
  {
   "cell_type": "markdown",
   "metadata": {},
   "source": []
  },
  {
   "cell_type": "markdown",
   "metadata": {},
   "source": [
    "## Assessing Accuracy on RAF-DB"
   ]
  },
  {
   "cell_type": "code",
   "execution_count": 7,
   "metadata": {},
   "outputs": [
    {
     "name": "stdout",
     "output_type": "stream",
     "text": [
      "\u001b[1m96/96\u001b[0m \u001b[32m━━━━━━━━━━━━━━━━━━━━\u001b[0m\u001b[37m\u001b[0m \u001b[1m8s\u001b[0m 88ms/step - accuracy: 0.6301 - loss: 1.4251\n",
      "\u001b[1m96/96\u001b[0m \u001b[32m━━━━━━━━━━━━━━━━━━━━\u001b[0m\u001b[37m\u001b[0m \u001b[1m8s\u001b[0m 85ms/step - accuracy: 0.6289 - loss: 1.2672\n"
     ]
    }
   ],
   "source": [
    "score = LEC_loaded_model.evaluate(X_rafdb_test, y_rafdb_test, verbose=1)\n",
    "score = LEC_loaded_model2.evaluate(X_rafdb_test, y_rafdb_test, verbose=1)\n",
    "# score = MobileNetV3_S_loaded_model.evaluate(X_rafdb_test, y_rafdb_test, verbose=1)"
   ]
  },
  {
   "cell_type": "markdown",
   "metadata": {},
   "source": [
    "## Assessing Accuracy on CK+"
   ]
  },
  {
   "cell_type": "code",
   "execution_count": 8,
   "metadata": {},
   "outputs": [
    {
     "name": "stdout",
     "output_type": "stream",
     "text": [
      "\u001b[1m96/96\u001b[0m \u001b[32m━━━━━━━━━━━━━━━━━━━━\u001b[0m\u001b[37m\u001b[0m \u001b[1m32s\u001b[0m 332ms/step - accuracy: 0.7475 - loss: 0.8468\n",
      "\u001b[1m96/96\u001b[0m \u001b[32m━━━━━━━━━━━━━━━━━━━━\u001b[0m\u001b[37m\u001b[0m \u001b[1m8s\u001b[0m 79ms/step - accuracy: 0.5852 - loss: 2.5592\n",
      "\u001b[1m96/96\u001b[0m \u001b[32m━━━━━━━━━━━━━━━━━━━━\u001b[0m\u001b[37m\u001b[0m \u001b[1m8s\u001b[0m 78ms/step - accuracy: 0.2647 - loss: 3.9551\n"
     ]
    }
   ],
   "source": [
    "score = CLCM_loaded_model.evaluate(X_ck_test, y_ck_test, verbose=1)\n",
    "score = LEC_loaded_model.evaluate(X_ck_test, y_ck_test, verbose=1)\n",
    "score = MobileNetV3_S_loaded_model.evaluate(X_ck_test, y_ck_test, verbose=1)"
   ]
  },
  {
   "cell_type": "code",
   "execution_count": null,
   "metadata": {},
   "outputs": [],
   "source": []
  },
  {
   "cell_type": "code",
   "execution_count": null,
   "metadata": {},
   "outputs": [],
   "source": []
  }
 ],
 "metadata": {
  "kernelspec": {
   "display_name": "myenv",
   "language": "python",
   "name": "python3"
  },
  "language_info": {
   "codemirror_mode": {
    "name": "ipython",
    "version": 3
   },
   "file_extension": ".py",
   "mimetype": "text/x-python",
   "name": "python",
   "nbconvert_exporter": "python",
   "pygments_lexer": "ipython3",
   "version": "3.10.4"
  }
 },
 "nbformat": 4,
 "nbformat_minor": 2
}
