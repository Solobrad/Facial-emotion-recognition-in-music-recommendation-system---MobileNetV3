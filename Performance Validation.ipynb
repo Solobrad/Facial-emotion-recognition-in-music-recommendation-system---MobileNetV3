{
 "cells": [
  {
   "cell_type": "code",
   "execution_count": 1,
   "metadata": {},
   "outputs": [],
   "source": [
    "import h5py\n",
    "import numpy as np\n",
    "import tensorflow as tf\n",
    "from tensorflow.keras.optimizers import Adam"
   ]
  },
  {
   "cell_type": "code",
   "execution_count": 2,
   "metadata": {},
   "outputs": [],
   "source": [
    "def load_data(hdf5_file, dataset_name_images, dataset_name_labels):\n",
    "    with h5py.File(hdf5_file, 'r') as hf:\n",
    "        data = np.array(hf[dataset_name_images])\n",
    "        labels = np.array(hf[dataset_name_labels])\n",
    "    return data, labels"
   ]
  },
  {
   "cell_type": "markdown",
   "metadata": {},
   "source": [
    "# Loading model and Testing accuracy"
   ]
  },
  {
   "cell_type": "code",
   "execution_count": 3,
   "metadata": {},
   "outputs": [],
   "source": [
    "from tensorflow.keras.layers import Layer, GlobalAveragePooling2D, Reshape, Dense, Multiply, Conv2D, Add, Activation, BatchNormalization\n",
    "from tensorflow.keras.applications import MobileNetV3Small"
   ]
  },
  {
   "cell_type": "code",
   "execution_count": 4,
   "metadata": {},
   "outputs": [],
   "source": [
    "# Channel Attention Module\n",
    "class ChannelAttention(Layer):\n",
    "    def __init__(self, reduction_ratio=16, **kwargs):\n",
    "        super(ChannelAttention, self).__init__(**kwargs)\n",
    "        self.reduction_ratio = reduction_ratio\n",
    "\n",
    "    def build(self, input_shape):\n",
    "        self.global_avg_pool = GlobalAveragePooling2D()\n",
    "        self.reshape = Reshape((1, 1, input_shape[-1]))\n",
    "        self.dense1 = Dense(input_shape[-1] // self.reduction_ratio, activation='relu', use_bias=False)\n",
    "        self.dense2 = Dense(input_shape[-1], activation='sigmoid', use_bias=False)\n",
    "\n",
    "    def call(self, inputs):\n",
    "        x = self.global_avg_pool(inputs)\n",
    "        x = self.reshape(x)\n",
    "        x = self.dense1(x)\n",
    "        x = self.dense2(x)\n",
    "        return Multiply()([inputs, x])\n",
    "\n",
    "\n",
    "# Spatial Attention Module\n",
    "class SpatialAttention(Layer):\n",
    "    def __init__(self, kernel_size=7, **kwargs):\n",
    "        super(SpatialAttention, self).__init__(**kwargs)\n",
    "        self.conv = Conv2D(1, kernel_size, padding='same', activation='sigmoid')\n",
    "\n",
    "    def call(self, inputs):\n",
    "        avg_pool = tf.reduce_mean(inputs, axis=-1, keepdims=True)\n",
    "        max_pool = tf.reduce_max(inputs, axis=-1, keepdims=True)\n",
    "        concat = tf.concat([avg_pool, max_pool], axis=-1)\n",
    "        return Multiply()([inputs, self.conv(concat)])\n",
    "\n",
    "# CBAM Module\n",
    "class CBAM(Layer):\n",
    "    def __init__(self, reduction_ratio=16, kernel_size=7, **kwargs):\n",
    "        super(CBAM, self).__init__(**kwargs)\n",
    "        self.channel_attention = ChannelAttention(reduction_ratio=reduction_ratio)\n",
    "        self.spatial_attention = SpatialAttention(kernel_size=kernel_size)\n",
    "\n",
    "    def call(self, inputs):\n",
    "        x = self.channel_attention(inputs)\n",
    "        x = self.spatial_attention(x)\n",
    "        return x"
   ]
  },
  {
   "cell_type": "code",
   "execution_count": 5,
   "metadata": {},
   "outputs": [
    {
     "name": "stderr",
     "output_type": "stream",
     "text": [
      "e:\\AI Researches\\Light Emotion CNN\\Code\\myenv\\lib\\site-packages\\keras\\src\\layers\\layer.py:361: UserWarning: `build()` was called on layer 'cbam_1', however the layer does not have a `build()` method implemented and it looks like it has unbuilt state. This will cause the layer to be marked as built, despite not being actually built, which may cause failures down the line. Make sure to implement a proper `build()` method.\n",
      "  warnings.warn(\n"
     ]
    },
    {
     "name": "stdout",
     "output_type": "stream",
     "text": [
      "WARNING:tensorflow:From e:\\AI Researches\\Light Emotion CNN\\Code\\myenv\\lib\\site-packages\\keras\\src\\backend\\tensorflow\\core.py:184: The name tf.placeholder is deprecated. Please use tf.compat.v1.placeholder instead.\n",
      "\n"
     ]
    }
   ],
   "source": [
    "LEC_loaded_model = tf.keras.models.load_model('Trained Model/LEC_model.keras')\n",
    "LEC_loaded_model1 = tf.keras.models.load_model('Trained Model/LEC_model2.keras')\n",
    "LEC_no_FCL = tf.keras.models.load_model('Trained Model/LEC_model_no_FCL.keras')\n",
    "LEC_loaded_model2 = tf.keras.models.load_model('Trained Model/LEC_model_CBAM.keras', custom_objects={\"CBAM\": CBAM})\n",
    "LEC_loaded_model3 = tf.keras.models.load_model('Trained Model/LEC_model_Channel.keras', custom_objects={\"ChannelAttention\": ChannelAttention})\n",
    "LEC_loaded_model4 = tf.keras.models.load_model('Trained Model/LEC_model_with_layers.keras')\n",
    "LEC_loaded_model5 = tf.keras.models.load_model('Trained Model/LEC_model_general.keras')\n",
    "LEC_loaded_model6 = tf.keras.models.load_model('Trained Model/LEC_model_no_TL.keras')\n",
    "MobileNetV3_S = tf.keras.models.load_model('Trained Model/MobileNetV3Small.keras')\n",
    "MobileNetV3_S2 = tf.keras.models.load_model('Trained Model/MobileNetV3Small_no_TL.keras')\n",
    "MobileNetV3_S3 = tf.keras.models.load_model('Trained Model/MobileNetV3Small_with_FCL.keras')\n",
    "MobileNetV3_L = tf.keras.models.load_model('Trained Model/Teacher_MobileNetV3Large_model.keras')\n",
    "\n",
    "\n"
   ]
  },
  {
   "cell_type": "code",
   "execution_count": 6,
   "metadata": {},
   "outputs": [],
   "source": [
    "LEC_loaded_model.compile(\n",
    "    optimizer=Adam(learning_rate=1e-4),\n",
    "    loss='sparse_categorical_crossentropy',\n",
    "    metrics=['accuracy']\n",
    ")\n",
    "LEC_loaded_model1.compile(\n",
    "    optimizer=Adam(learning_rate=1e-4),\n",
    "    loss='sparse_categorical_crossentropy',\n",
    "    metrics=['accuracy']\n",
    ")\n",
    "LEC_no_FCL.compile(\n",
    "    optimizer=Adam(learning_rate=1e-4),\n",
    "    loss='sparse_categorical_crossentropy',\n",
    "    metrics=['accuracy']\n",
    ")\n",
    "LEC_loaded_model2.compile(\n",
    "    optimizer=Adam(learning_rate=1e-4),\n",
    "    loss='sparse_categorical_crossentropy',\n",
    "    metrics=['accuracy']\n",
    ")\n",
    "LEC_loaded_model3.compile(\n",
    "    optimizer=Adam(learning_rate=1e-4),\n",
    "    loss='sparse_categorical_crossentropy',\n",
    "    metrics=['accuracy']\n",
    ")\n",
    "LEC_loaded_model4.compile(\n",
    "    optimizer=Adam(learning_rate=1e-4),\n",
    "    loss='sparse_categorical_crossentropy',\n",
    "    metrics=['accuracy']\n",
    ")\n",
    "LEC_loaded_model5.compile(\n",
    "    optimizer=Adam(learning_rate=1e-4),\n",
    "    loss='sparse_categorical_crossentropy',\n",
    "    metrics=['accuracy']\n",
    ")\n",
    "LEC_loaded_model6.compile(\n",
    "    optimizer=Adam(learning_rate=1e-4),\n",
    "    loss='sparse_categorical_crossentropy',\n",
    "    metrics=['accuracy']\n",
    ")"
   ]
  },
  {
   "cell_type": "code",
   "execution_count": 7,
   "metadata": {},
   "outputs": [],
   "source": [
    "X_fer_test, y_fer_test = load_data('output files/fer2013_testing.h5', 'images', 'labels')\n",
    "X_rafdb_test, y_rafdb_test = load_data('output files/rafdb_testing.h5', 'images', 'labels')\n",
    "X_ck_test, y_ck_test = load_data('output files/rafdb_testing.h5', 'images', 'labels')"
   ]
  },
  {
   "cell_type": "markdown",
   "metadata": {},
   "source": [
    "## Assessing Accuracy on FER-2013"
   ]
  },
  {
   "cell_type": "code",
   "execution_count": 8,
   "metadata": {},
   "outputs": [
    {
     "name": "stdout",
     "output_type": "stream",
     "text": [
      "\u001b[1m225/225\u001b[0m \u001b[32m━━━━━━━━━━━━━━━━━━━━\u001b[0m\u001b[37m\u001b[0m \u001b[1m21s\u001b[0m 83ms/step - accuracy: 0.6218 - loss: 1.1418\n",
      "\u001b[1m225/225\u001b[0m \u001b[32m━━━━━━━━━━━━━━━━━━━━\u001b[0m\u001b[37m\u001b[0m \u001b[1m21s\u001b[0m 86ms/step - accuracy: 0.6282 - loss: 1.2469\n",
      "\u001b[1m225/225\u001b[0m \u001b[32m━━━━━━━━━━━━━━━━━━━━\u001b[0m\u001b[37m\u001b[0m \u001b[1m21s\u001b[0m 87ms/step - accuracy: 0.6236 - loss: 1.3806\n"
     ]
    }
   ],
   "source": [
    "score = LEC_loaded_model.evaluate(X_fer_test, y_fer_test, verbose=1)\n",
    "score = LEC_loaded_model1.evaluate(X_fer_test, y_fer_test, verbose=1)\n",
    "score = LEC_no_FCL.evaluate(X_fer_test, y_fer_test, verbose=1)\n",
    "# score = LEC_loaded_model2.evaluate(X_fer_test, y_fer_test, verbose=1)\n",
    "# score = LEC_loaded_model3.evaluate(X_fer_test, y_fer_test, verbose=1)\n",
    "# score = LEC_loaded_model4.evaluate(X_fer_test, y_fer_test, verbose=1)\n",
    "# score = LEC_loaded_model5.evaluate(X_fer_test, y_fer_test, verbose=1)\n",
    "# score = LEC_loaded_model6.evaluate(X_fer_test, y_fer_test, verbose=1)\n",
    "# score = MobileNetV3_S.evaluate(X_fer_test, y_fer_test, verbose=1)\n",
    "# score = MobileNetV3_S2.evaluate(X_fer_test, y_fer_test, verbose=1)\n",
    "# score = MobileNetV3_S3.evaluate(X_fer_test, y_fer_test, verbose=1)\n",
    "# score = MobileNetV3_L.evaluate(X_fer_test, y_fer_test, verbose=1)\n",
    "\n"
   ]
  },
  {
   "cell_type": "code",
   "execution_count": null,
   "metadata": {},
   "outputs": [],
   "source": []
  }
 ],
 "metadata": {
  "kernelspec": {
   "display_name": "myenv",
   "language": "python",
   "name": "python3"
  },
  "language_info": {
   "codemirror_mode": {
    "name": "ipython",
    "version": 3
   },
   "file_extension": ".py",
   "mimetype": "text/x-python",
   "name": "python",
   "nbconvert_exporter": "python",
   "pygments_lexer": "ipython3",
   "version": "3.10.4"
  }
 },
 "nbformat": 4,
 "nbformat_minor": 2
}
